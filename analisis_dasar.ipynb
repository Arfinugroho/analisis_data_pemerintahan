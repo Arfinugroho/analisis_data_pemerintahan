# Dalam analisis_dasar.ipynb 
import pandas as pd 

def load_data(file_path): 
    return pd.read_csv(file_path)

# Contoh penggunaan 
data = load_data('data/JProyek_Jabar.csv') 
print(data.head()) 
